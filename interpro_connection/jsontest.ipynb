{
 "cells": [
  {
   "cell_type": "code",
   "execution_count": 4,
   "metadata": {},
   "outputs": [],
   "source": [
    "import json"
   ]
  },
  {
   "cell_type": "markdown",
   "metadata": {},
   "source": [
    "### Opening test json files"
   ]
  },
  {
   "cell_type": "code",
   "execution_count": 65,
   "metadata": {},
   "outputs": [],
   "source": [
    "with open('companies.json', 'r') as f:\n",
    "    test = json.load(f)"
   ]
  },
  {
   "cell_type": "code",
   "execution_count": 5,
   "metadata": {},
   "outputs": [],
   "source": [
    "with open('FDH_search_result.json', 'r') as f:\n",
    "    data = json.load(f) # Real interpro output\n"
   ]
  },
  {
   "cell_type": "markdown",
   "metadata": {},
   "source": [
    "### Visualizing json files"
   ]
  },
  {
   "cell_type": "code",
   "execution_count": 1,
   "metadata": {
    "tags": []
   },
   "outputs": [],
   "source": [
    "#data['results'][0]['matches']#[1]['signature']#['accession']"
   ]
  },
  {
   "cell_type": "code",
   "execution_count": 50,
   "metadata": {},
   "outputs": [],
   "source": [
    "value = data['results']"
   ]
  },
  {
   "cell_type": "markdown",
   "metadata": {},
   "source": [
    "### Considerations\n",
    "- Not all signatures have the the same fields like signature -> entry -> type (Useful for filtering the Family options)"
   ]
  },
  {
   "cell_type": "markdown",
   "metadata": {},
   "source": [
    "### Functions for exploring json files"
   ]
  },
  {
   "cell_type": "code",
   "execution_count": 2,
   "metadata": {
    "tags": []
   },
   "outputs": [],
   "source": [
    "# Iterating over all key-value pairs\n",
    "#for key, value in data.items():\n",
    "  #  print(key, value)"
   ]
  },
  {
   "cell_type": "code",
   "execution_count": 29,
   "metadata": {},
   "outputs": [],
   "source": [
    "def search_json(json_data, pattern):\n",
    "    matches = []\n",
    "\n",
    "    def search_recursive(data):\n",
    "        if isinstance(data, dict):\n",
    "            for key, value in data.items():\n",
    "                if isinstance(value, (dict, list)):\n",
    "                    search_recursive(value)\n",
    "                elif isinstance(value, str) and pattern in value:\n",
    "                    matches.append(value)\n",
    "        elif isinstance(data, list):\n",
    "            for item in data:\n",
    "                search_recursive(item)\n",
    "\n",
    "    search_recursive(json_data)\n",
    "    return matches"
   ]
  },
  {
   "cell_type": "code",
   "execution_count": 30,
   "metadata": {},
   "outputs": [
    {
     "data": {
      "text/plain": [
       "['IPR029753',\n",
       " 'IPR033689',\n",
       " 'IPR006139',\n",
       " 'IPR029753',\n",
       " 'IPR006140',\n",
       " 'IPR033689',\n",
       " 'IPR036291',\n",
       " 'IPR029752']"
      ]
     },
     "execution_count": 30,
     "metadata": {},
     "output_type": "execute_result"
    }
   ],
   "source": [
    "search_json(data,\"IPR0\")"
   ]
  },
  {
   "cell_type": "markdown",
   "metadata": {},
   "source": [
    "In all the data, look for the IPR0 pattern where Type == FAMILY.\n",
    "In all the data[0]['results']['matches'][n] look for the pattern where entry{'Type' == 'FAMILY'}"
   ]
  },
  {
   "cell_type": "markdown",
   "metadata": {},
   "source": [
    "### Looking first for family IDs"
   ]
  },
  {
   "cell_type": "code",
   "execution_count": 27,
   "metadata": {},
   "outputs": [],
   "source": [
    "a = []\n",
    "for n in range(len(data['results'][0]['matches'])):\n",
    "    try:\n",
    "        signature_entry_type = data['results'][0]['matches'][n][\"signature\"].get('entry', {}).get('type')\n",
    "        if signature_entry_type == 'FAMILY':\n",
    "            a.append(data['results'][0]['matches'][n][\"signature\"]['entry']['accession'])\n",
    "    except AttributeError:\n",
    "        # If 'signature' or 'entry' is not found, continue with the next iteration\n",
    "        continue"
   ]
  },
  {
   "cell_type": "code",
   "execution_count": 33,
   "metadata": {},
   "outputs": [
    {
     "data": {
      "text/plain": [
       "'IPR033689'"
      ]
     },
     "execution_count": 33,
     "metadata": {},
     "output_type": "execute_result"
    }
   ],
   "source": [
    "a[0]\n",
    "#search_json(a,\"IPR0\") # This should look for only Family Ids "
   ]
  },
  {
   "cell_type": "code",
   "execution_count": 146,
   "metadata": {},
   "outputs": [],
   "source": [
    "#data['results'][0]['matches'][2][\"signature\"].get('entry', {}).get('type') == 'FAMILY'"
   ]
  },
  {
   "cell_type": "markdown",
   "metadata": {},
   "source": [
    "### Looking into hmm"
   ]
  },
  {
   "cell_type": "code",
   "execution_count": 23,
   "metadata": {},
   "outputs": [],
   "source": [
    "b = []\n",
    "for n in range(len(data['results'][0]['matches'])):\n",
    "    try:\n",
    "        signature_library_type = data['results'][0]['matches'][n][\"signature\"]['signatureLibraryRelease'].get('library')\n",
    "        if signature_library_type == 'PFAM':\n",
    "            b.append(data['results'][0]['matches'][n][\"signature\"]['accession'])\n",
    "    except AttributeError:\n",
    "        # If 'signature' or 'entry' is not found, continue with the next iteration\n",
    "        continue"
   ]
  },
  {
   "cell_type": "code",
   "execution_count": 25,
   "metadata": {},
   "outputs": [
    {
     "data": {
      "text/plain": [
       "'PF00389'"
      ]
     },
     "execution_count": 25,
     "metadata": {},
     "output_type": "execute_result"
    }
   ],
   "source": []
  },
  {
   "cell_type": "code",
   "execution_count": 21,
   "metadata": {},
   "outputs": [
    {
     "data": {
      "text/plain": [
       "'PF00389'"
      ]
     },
     "execution_count": 21,
     "metadata": {},
     "output_type": "execute_result"
    }
   ],
   "source": [
    "data['results'][0]['matches'][5][\"signature\"]['accession']"
   ]
  },
  {
   "cell_type": "code",
   "execution_count": 5,
   "metadata": {
    "tags": []
   },
   "outputs": [],
   "source": [
    "BASE_URL = \"https://www.ebi.ac.uk:443/interpro/api/protein/UniProt/entry/InterPro/{}/?page_size=200&extra_fields=sequence\"\n",
    "u = BASE_URL"
   ]
  },
  {
   "cell_type": "code",
   "execution_count": 7,
   "metadata": {
    "tags": []
   },
   "outputs": [],
   "source": [
    "protein_id = \"IPR033689\""
   ]
  },
  {
   "cell_type": "code",
   "execution_count": 8,
   "metadata": {
    "tags": []
   },
   "outputs": [
    {
     "data": {
      "text/plain": [
       "'https://www.ebi.ac.uk:443/interpro/api/protein/UniProt/entry/InterPro/IPR033689/?page_size=200&extra_fields=sequence'"
      ]
     },
     "execution_count": 8,
     "metadata": {},
     "output_type": "execute_result"
    }
   ],
   "source": [
    "u.format(protein_id)"
   ]
  }
 ],
 "metadata": {
  "kernelspec": {
   "display_name": "Python 3 (ipykernel)",
   "language": "python",
   "name": "python3"
  },
  "language_info": {
   "codemirror_mode": {
    "name": "ipython",
    "version": 3
   },
   "file_extension": ".py",
   "mimetype": "text/x-python",
   "name": "python",
   "nbconvert_exporter": "python",
   "pygments_lexer": "ipython3",
   "version": "3.11.3"
  }
 },
 "nbformat": 4,
 "nbformat_minor": 4
}
