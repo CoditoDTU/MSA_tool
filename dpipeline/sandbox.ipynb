{
 "cells": [
  {
   "cell_type": "code",
   "execution_count": 6,
   "metadata": {},
   "outputs": [],
   "source": [
    "import argparse\n",
    "from Bio import AlignIO\n",
    "from Bio.Align import AlignInfo\n",
    "import numpy as np\n",
    "from Bio import SeqIO"
   ]
  },
  {
   "cell_type": "code",
   "execution_count": 4,
   "metadata": {},
   "outputs": [],
   "source": [
    "#Get conserved sequences function:\n",
    "def get_conserved_sites(msa_file, threshold):\n",
    "    \n",
    "    # Read the MSA file\n",
    "    alignment = AlignIO.read(msa_file, \"fasta\")\n",
    "\n",
    "    # Create an AlignInfo summary object\n",
    "    summary = AlignInfo.SummaryInfo(alignment) # obtains results from the aligment object created before\n",
    "\n",
    "    # Calculate the conservation of each position in the aln\n",
    "    conservation = summary.pos_specific_score_matrix()\n",
    "\n",
    "    # Get the length of the Alignment(Positions length)\n",
    "    aln_len = alignment.get_alignment_length()\n",
    "\n",
    "    # Get number of sequences for threshold\n",
    "    sequence_number = len(alignment)\n",
    "\n",
    "    # Calculate conservation threshold\n",
    "    thres_val = threshold * sequence_number # number of ocurrences needed to reach the threshold ex: 0.7*100 = 70 ocurrences threshold\n",
    "\n",
    "    # Extract conserved sites\n",
    "    conserved_pos = [] #positions\n",
    "    conserved_keys = [] #AA letter\n",
    "    conserved_prob = [] # %of conservation Ex: 0.7 = 7/10\n",
    "    '''\n",
    "    for position in conservation:\n",
    "        if conservation[position] >= thres_val:\n",
    "            conserved_sites.append(position + 1) # Convert to 1-based indexing\n",
    "    \n",
    "    #return conserved_sites\n",
    "    ''' \n",
    "    for i in range(aln_len):\n",
    "        max_conservation = max(conservation[i].values()) # Most present amino acid in each position number \n",
    "        max_key = max(conservation[i], key = conservation[i].get) # Gets letter from the most present aminoacid in position\n",
    "        if max_conservation >= thres_val:\n",
    "            conserved_pos.append(i+1) # Convert to 1-based indexing\n",
    "            conserved_keys.append(max_key)\n",
    "            conserved_prob.append(max_conservation/sequence_number) # returning it as a %\n",
    "\n",
    "    results = np.array([conserved_keys, conserved_pos, conserved_prob]).T\n",
    "    return results"
   ]
  },
  {
   "cell_type": "code",
   "execution_count": 2,
   "metadata": {},
   "outputs": [],
   "source": [
    "def map_conserved_sites(original_fasta_file, conserved_sites):\n",
    "    \n",
    "    # Read the first sequence from the FASTA file\n",
    "    with SeqIO.open(original_fasta_file, \"fasta\") as handle:\n",
    "        first_sequence = handle.__next__()\n",
    "\n",
    "    # Use the first sequence and process as before\n",
    "    seq1 = str(first_sequence.seq)\n",
    "\n",
    "    # Initialize list to store mapped conserved sites\n",
    "    mapped_conserved_sites = []\n",
    "\n",
    "    # Map conserved sites to the original sequence\n",
    "    for conserved_site in conserved_sites:\n",
    "        conserved_aa, conserved_pos, conserved_prob = conserved_site\n",
    "        conserved_pos = int(conserved_pos)\n",
    "\n",
    "        # Count the number of gaps ('-') in Sequence_1 up to conserved_pos\n",
    "        num_gaps = seq1[:conserved_pos].count('-')\n",
    "\n",
    "        # Adjust the position based on the number of gaps\n",
    "        mapped_pos = conserved_pos - num_gaps\n",
    "\n",
    "        # Append mapped conserved site to the list\n",
    "        mapped_conserved_sites.append([conserved_aa, mapped_pos, conserved_prob])\n",
    "\n",
    "    return mapped_conserved_sites"
   ]
  },
  {
   "cell_type": "code",
   "execution_count": 23,
   "metadata": {},
   "outputs": [
    {
     "name": "stdout",
     "output_type": "stream",
     "text": [
      "0\n"
     ]
    }
   ],
   "source": [
    "#map_conserved_sites(\"data/MSA_dummy_data.fasta\", x)\n",
    "sequences = SeqIO.to_dict(SeqIO.parse(\"data/MSA_dummy_data.fasta\", \"fasta\"))\n",
    "\n",
    "# Find the first sequence dynamically\n",
    "first_sequence_name = next(iter(sequences))\n",
    "seq1 = str(sequences[first_sequence_name].seq)\n",
    "mapped_conserved_sites = []\n",
    "for conserved_site in x:\n",
    "        conserved_aa, conserved_pos, conserved_prob = conserved_site\n",
    "        conserved_pos = int(conserved_pos)\n",
    "        # Count the number of gaps ('-') in the first sequence up to conserved_pos\n",
    "        num_gaps = seq1[:conserved_pos].count('-')\n",
    "\n",
    "        # Adjust the position based on the number of gaps\n",
    "        mapped_pos = conserved_pos - num_gaps\n",
    "\n",
    "        # Append mapped conserved site to the list\n",
    "        mapped_conserved_sites.append([conserved_aa, mapped_pos, conserved_prob])"
   ]
  },
  {
   "cell_type": "code",
   "execution_count": 26,
   "metadata": {},
   "outputs": [],
   "source": [
    "def map_conserved_sites(original_fasta_file, conserved_sites, msa_file):\n",
    "    # Read the original FASTA file\n",
    "    sequences = SeqIO.to_dict(SeqIO.parse(original_fasta_file, \"fasta\"))\n",
    "\n",
    "    # Find the first sequence dynamically\n",
    "    first_sequence_name = next(iter(sequences))\n",
    "\n",
    "    # Convert first sequence to string\n",
    "    seq1 = str(sequences[first_sequence_name].seq)\n",
    "\n",
    "    # Read the MSA file to count gaps in the first sequence\n",
    "    with open(msa_file, 'r') as f:\n",
    "        msa_record = next(SeqIO.parse(f, 'fasta'))\n",
    "        msa_seq1 = str(msa_record.seq)\n",
    "\n",
    "   # Convert position from conserved_sites to an integer\n",
    "    last_conserved_pos = int(conserved_sites[-1][1]) #[-1]: This accesses the last element in the list  [1]: This accesses the second element of the inner list, which corresponds to the position of the conserved site.\n",
    "\n",
    "    # Count gaps in the first sequence of the MSA\n",
    "\n",
    "    gap_count = msa_seq1[:last_conserved_pos].count('-')\n",
    "\n",
    "    # Initialize list to store mapped conserved sites\n",
    "    mapped_conserved_sites = []\n",
    "\n",
    "    # Map conserved sites to the original sequence\n",
    "    for conserved_site in conserved_sites:\n",
    "        conserved_aa, conserved_pos, conserved_prob = conserved_site\n",
    "        conserved_pos = int(conserved_pos)\n",
    "\n",
    "        # Adjust the position based on the number of gaps\n",
    "        mapped_pos = conserved_pos - gap_count\n",
    "\n",
    "        # Append mapped conserved site to the list\n",
    "        mapped_conserved_sites.append([conserved_aa, mapped_pos, conserved_prob])\n",
    "\n",
    "    return mapped_conserved_sites\n",
    "\n"
   ]
  },
  {
   "cell_type": "code",
   "execution_count": 30,
   "metadata": {},
   "outputs": [],
   "source": [
    "x = get_conserved_sites(\"data/test_MSA.fasta\", 0.6) # Matrix with results from function"
   ]
  },
  {
   "cell_type": "code",
   "execution_count": 28,
   "metadata": {},
   "outputs": [
    {
     "name": "stdout",
     "output_type": "stream",
     "text": [
      "[['M' '1' '0.9']\n",
      " ['G' '4' '0.6']\n",
      " ['T' '5' '0.6']\n",
      " ['V' '6' '0.6']\n",
      " ['V' '7' '0.7']\n",
      " ['S' '8' '0.7']\n",
      " ['G' '9' '0.7']\n",
      " ['G' '10' '0.6']\n",
      " ['S' '11' '0.6']\n",
      " ['M' '12' '0.6']\n",
      " ['N' '13' '0.6']\n",
      " ['Y' '26' '0.6']\n",
      " ['L' '32' '0.6']]\n"
     ]
    }
   ],
   "source": [
    "#a = AlignIO.read(\"data/msa_dummy.fasta\", \"fasta\") # MSA from clustalomega\n",
    "#print(x)\n",
    "r = map_conserved_sites()"
   ]
  },
  {
   "cell_type": "code",
   "execution_count": 27,
   "metadata": {},
   "outputs": [
    {
     "data": {
      "text/plain": [
       "[['M', 1, '0.9'],\n",
       " ['G', 4, '0.6'],\n",
       " ['T', 5, '0.6'],\n",
       " ['V', 6, '0.6'],\n",
       " ['V', 7, '0.7'],\n",
       " ['S', 8, '0.7'],\n",
       " ['G', 9, '0.7'],\n",
       " ['G', 10, '0.6'],\n",
       " ['S', 11, '0.6'],\n",
       " ['M', 12, '0.6'],\n",
       " ['N', 13, '0.6'],\n",
       " ['Y', 26, '0.6'],\n",
       " ['L', 32, '0.6']]"
      ]
     },
     "execution_count": 27,
     "metadata": {},
     "output_type": "execute_result"
    }
   ],
   "source": [
    "map_conserved_sites(\"data/MSA_dummy_data.fasta\", x,\"data/msa_dummy.fasta\")"
   ]
  },
  {
   "cell_type": "code",
   "execution_count": 53,
   "metadata": {},
   "outputs": [
    {
     "data": {
      "text/plain": [
       "True"
      ]
     },
     "execution_count": 53,
     "metadata": {},
     "output_type": "execute_result"
    }
   ],
   "source": [
    "x[0,0] == a[0,0]"
   ]
  },
  {
   "cell_type": "code",
   "execution_count": 70,
   "metadata": {},
   "outputs": [
    {
     "data": {
      "text/plain": [
       "2"
      ]
     },
     "execution_count": 70,
     "metadata": {},
     "output_type": "execute_result"
    }
   ],
   "source": [
    "int(x[0,1]) + int(x[0,1]) # 0 is position, 0,0 is AA conserved, 0,1 is position and 0,2 is % of apparisons"
   ]
  },
  {
   "cell_type": "code",
   "execution_count": 66,
   "metadata": {},
   "outputs": [
    {
     "data": {
      "text/plain": [
       "'-'"
      ]
     },
     "execution_count": 66,
     "metadata": {},
     "output_type": "execute_result"
    }
   ],
   "source": [
    "a[0,85]"
   ]
  },
  {
   "cell_type": "code",
   "execution_count": 86,
   "metadata": {},
   "outputs": [],
   "source": [
    "length = a.get_alignment_length() # Length of actual alignme"
   ]
  },
  {
   "cell_type": "code",
   "execution_count": 101,
   "metadata": {},
   "outputs": [
    {
     "name": "stdout",
     "output_type": "stream",
     "text": [
      "['M' '1' '0.9']\n",
      "['G' '4' '0.6']\n",
      "['T' '5' '0.6']\n",
      "['V' '6' '0.6']\n",
      "['V' '7' '0.7']\n",
      "['S' '8' '0.7']\n",
      "['G' '9' '0.7']\n",
      "['G' '10' '0.6']\n",
      "['S' '11' '0.6']\n",
      "['M' '12' '0.6']\n",
      "['N' '13' '0.6']\n"
     ]
    }
   ],
   "source": [
    "\n",
    "for k in range(len(x)): # 0 - 9 seq\n",
    "    for i in range(length): # 0 - 85 pos \n",
    "        if x[k,0] == a[0, i] and int(x[k, 1]) == i + 1:# if the AA conserved in the dictionary is the same that the letter in the aligment AND the position of that AA conserved is the same as the position of the matched letters:\n",
    "            print(x[k])\n",
    "\n",
    "            \n",
    "         "
   ]
  }
 ],
 "metadata": {
  "kernelspec": {
   "display_name": "Python 3",
   "language": "python",
   "name": "python3"
  },
  "language_info": {
   "codemirror_mode": {
    "name": "ipython",
    "version": 3
   },
   "file_extension": ".py",
   "mimetype": "text/x-python",
   "name": "python",
   "nbconvert_exporter": "python",
   "pygments_lexer": "ipython3",
   "version": "3.8.18"
  },
  "orig_nbformat": 4
 },
 "nbformat": 4,
 "nbformat_minor": 2
}
