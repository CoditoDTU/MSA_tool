{
 "cells": [
  {
   "cell_type": "code",
   "execution_count": 46,
   "metadata": {},
   "outputs": [],
   "source": [
    "import argparse\n",
    "from Bio import AlignIO\n",
    "from Bio.Align import AlignInfo\n",
    "import numpy as np"
   ]
  },
  {
   "cell_type": "code",
   "execution_count": 47,
   "metadata": {},
   "outputs": [],
   "source": [
    "#Get conserved sequences function:\n",
    "def get_conserved_sites(msa_file, threshold):\n",
    "    \n",
    "    # Read the MSA file\n",
    "    alignment = AlignIO.read(msa_file, \"fasta\")\n",
    "\n",
    "    # Create an AlignInfo summary object\n",
    "    summary = AlignInfo.SummaryInfo(alignment) # obtains results from the aligment object created before\n",
    "\n",
    "    # Calculate the conservation of each position in the aln\n",
    "    conservation = summary.pos_specific_score_matrix()\n",
    "\n",
    "    # Get the length of the Alignment(Positions length)\n",
    "    aln_len = alignment.get_alignment_length()\n",
    "\n",
    "    # Get number of sequences for threshold\n",
    "    sequence_number = len(alignment)\n",
    "\n",
    "    # Calculate conservation threshold\n",
    "    thres_val = threshold * sequence_number # number of ocurrences needed to reach the threshold ex: 0.7*100 = 70 ocurrences threshold\n",
    "\n",
    "    # Extract conserved sites\n",
    "    conserved_pos = [] #positions\n",
    "    conserved_keys = [] #AA letter\n",
    "    conserved_prob = [] # %of conservation Ex: 0.7 = 7/10\n",
    "    '''\n",
    "    for position in conservation:\n",
    "        if conservation[position] >= thres_val:\n",
    "            conserved_sites.append(position + 1) # Convert to 1-based indexing\n",
    "    \n",
    "    #return conserved_sites\n",
    "    ''' \n",
    "    for i in range(aln_len):\n",
    "        max_conservation = max(conservation[i].values()) # Most present amino acid in each position number \n",
    "        max_key = max(conservation[i], key = conservation[i].get) # Gets letter from the most present aminoacid in position\n",
    "        if max_conservation >= thres_val:\n",
    "            conserved_pos.append(i+1) # Convert to 1-based indexing\n",
    "            conserved_keys.append(max_key)\n",
    "            conserved_prob.append(max_conservation/sequence_number) # returning it as a %\n",
    "\n",
    "    results = np.array([conserved_keys, conserved_pos, conserved_prob]).T\n",
    "    return results"
   ]
  },
  {
   "cell_type": "code",
   "execution_count": 62,
   "metadata": {},
   "outputs": [
    {
     "name": "stdout",
     "output_type": "stream",
     "text": [
      "[['M' '1' '0.9']\n",
      " ['G' '4' '0.6']\n",
      " ['T' '5' '0.6']\n",
      " ['V' '6' '0.6']\n",
      " ['V' '7' '0.7']\n",
      " ['S' '8' '0.7']\n",
      " ['G' '9' '0.7']\n",
      " ['G' '10' '0.6']\n",
      " ['S' '11' '0.6']\n",
      " ['M' '12' '0.6']\n",
      " ['N' '13' '0.6']\n",
      " ['Y' '26' '0.6']\n",
      " ['L' '32' '0.6']]\n"
     ]
    }
   ],
   "source": [
    "x = get_conserved_sites(\"data/msa_dummy.fasta\", 0.6) # Matrix with results from function\n",
    "print(x)"
   ]
  },
  {
   "cell_type": "code",
   "execution_count": 52,
   "metadata": {},
   "outputs": [],
   "source": [
    "a = AlignIO.read(\"data/msa_dummy.fasta\", \"fasta\") # MSA from clustalomega "
   ]
  },
  {
   "cell_type": "code",
   "execution_count": 102,
   "metadata": {},
   "outputs": [
    {
     "data": {
      "text/plain": [
       "13"
      ]
     },
     "execution_count": 102,
     "metadata": {},
     "output_type": "execute_result"
    }
   ],
   "source": [
    "len(x)"
   ]
  },
  {
   "cell_type": "code",
   "execution_count": 53,
   "metadata": {},
   "outputs": [
    {
     "data": {
      "text/plain": [
       "True"
      ]
     },
     "execution_count": 53,
     "metadata": {},
     "output_type": "execute_result"
    }
   ],
   "source": [
    "x[0,0] == a[0,0]"
   ]
  },
  {
   "cell_type": "code",
   "execution_count": 70,
   "metadata": {},
   "outputs": [
    {
     "data": {
      "text/plain": [
       "2"
      ]
     },
     "execution_count": 70,
     "metadata": {},
     "output_type": "execute_result"
    }
   ],
   "source": [
    "int(x[0,1]) + int(x[0,1]) # 0 is position, 0,0 is AA conserved, 0,1 is position and 0,2 is % of apparisons"
   ]
  },
  {
   "cell_type": "code",
   "execution_count": 66,
   "metadata": {},
   "outputs": [
    {
     "data": {
      "text/plain": [
       "'-'"
      ]
     },
     "execution_count": 66,
     "metadata": {},
     "output_type": "execute_result"
    }
   ],
   "source": [
    "a[0,85]"
   ]
  },
  {
   "cell_type": "code",
   "execution_count": 86,
   "metadata": {},
   "outputs": [],
   "source": [
    "length = a.get_alignment_length() # Length of actual alignme"
   ]
  },
  {
   "cell_type": "code",
   "execution_count": 101,
   "metadata": {},
   "outputs": [
    {
     "name": "stdout",
     "output_type": "stream",
     "text": [
      "['M' '1' '0.9']\n",
      "['G' '4' '0.6']\n",
      "['T' '5' '0.6']\n",
      "['V' '6' '0.6']\n",
      "['V' '7' '0.7']\n",
      "['S' '8' '0.7']\n",
      "['G' '9' '0.7']\n",
      "['G' '10' '0.6']\n",
      "['S' '11' '0.6']\n",
      "['M' '12' '0.6']\n",
      "['N' '13' '0.6']\n"
     ]
    }
   ],
   "source": [
    "\n",
    "for k in range(len(x)): # 0 - 9 seq\n",
    "    for i in range(length): # 0 - 85 pos \n",
    "        if x[k,0] == a[0, i] and int(x[k, 1]) == i + 1:# if the AA conserved in the dictionary is the same that the letter in the aligment AND the position of that AA conserved is the same as the position of the matched letters:\n",
    "            print(x[k])\n",
    "\n",
    "            \n",
    "         "
   ]
  },
  {
   "cell_type": "code",
   "execution_count": 99,
   "metadata": {},
   "outputs": [
    {
     "data": {
      "text/plain": [
       "True"
      ]
     },
     "execution_count": 99,
     "metadata": {},
     "output_type": "execute_result"
    }
   ],
   "source": [
    "x[0,0] == a[0, 0] and int(x[0, 1]) == 0+1"
   ]
  },
  {
   "cell_type": "code",
   "execution_count": 97,
   "metadata": {},
   "outputs": [
    {
     "data": {
      "text/plain": [
       "'1'"
      ]
     },
     "execution_count": 97,
     "metadata": {},
     "output_type": "execute_result"
    }
   ],
   "source": [
    "x[0, 1] "
   ]
  }
 ],
 "metadata": {
  "kernelspec": {
   "display_name": "Python 3",
   "language": "python",
   "name": "python3"
  },
  "language_info": {
   "codemirror_mode": {
    "name": "ipython",
    "version": 3
   },
   "file_extension": ".py",
   "mimetype": "text/x-python",
   "name": "python",
   "nbconvert_exporter": "python",
   "pygments_lexer": "ipython3",
   "version": "3.11.3"
  },
  "orig_nbformat": 4
 },
 "nbformat": 4,
 "nbformat_minor": 2
}
