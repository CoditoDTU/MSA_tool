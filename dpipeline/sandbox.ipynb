{
 "cells": [
  {
   "cell_type": "code",
   "execution_count": 24,
   "metadata": {},
   "outputs": [],
   "source": [
    "import argparse\n",
    "from Bio import AlignIO\n",
    "from Bio.Align import AlignInfo\n",
    "import numpy as np\n",
    "from Bio import SeqIO\n",
    "import pandas as pd"
   ]
  },
  {
   "cell_type": "markdown",
   "metadata": {},
   "source": [
    "# Conserved Sequence python function"
   ]
  },
  {
   "cell_type": "code",
   "execution_count": 2,
   "metadata": {},
   "outputs": [],
   "source": [
    "#Get conserved sequences function:\n",
    "def get_conserved_sites(msa_file, threshold):\n",
    "    \n",
    "    # Read the MSA file\n",
    "    alignment = AlignIO.read(msa_file, \"fasta\")\n",
    "\n",
    "    # Create an AlignInfo summary object\n",
    "    summary = AlignInfo.SummaryInfo(alignment) # obtains results from the aligment object created before\n",
    "\n",
    "    # Calculate the conservation of each position in the aln\n",
    "    conservation = summary.pos_specific_score_matrix()\n",
    "\n",
    "    # Get the length of the Alignment(Positions length)\n",
    "    aln_len = alignment.get_alignment_length()\n",
    "\n",
    "    # Get number of sequences for threshold\n",
    "    sequence_number = len(alignment)\n",
    "\n",
    "    # Calculate conservation threshold\n",
    "    thres_val = threshold * sequence_number # number of ocurrences needed to reach the threshold ex: 0.7*100 = 70 ocurrences threshold\n",
    "\n",
    "    # Extract conserved sites\n",
    "    conserved_pos = [] #positions\n",
    "    conserved_keys = [] #AA letter\n",
    "    conserved_prob = [] # %of conservation Ex: 0.7 = 7/10\n",
    "    '''\n",
    "    for position in conservation:\n",
    "        if conservation[position] >= thres_val:\n",
    "            conserved_sites.append(position + 1) # Convert to 1-based indexing\n",
    "    \n",
    "    #return conserved_sites\n",
    "    ''' \n",
    "    for i in range(aln_len):\n",
    "        max_conservation = max(conservation[i].values()) # Most present amino acid in each position number \n",
    "        max_key = max(conservation[i], key = conservation[i].get) # Gets letter from the most present aminoacid in position\n",
    "        if max_conservation >= thres_val:\n",
    "            conserved_pos.append(i+1) # Convert to 1-based indexing\n",
    "            conserved_keys.append(max_key)\n",
    "            conserved_prob.append(max_conservation/sequence_number) # returning it as a %\n",
    "\n",
    "    results = np.array([conserved_keys, conserved_pos, conserved_prob]).T\n",
    "    return results"
   ]
  },
  {
   "cell_type": "code",
   "execution_count": 3,
   "metadata": {},
   "outputs": [],
   "source": [
    "def map_conserved_sites(original_fasta_file, conserved_sites, msa_file):\n",
    "    # Read the original FASTA file\n",
    "    sequences = SeqIO.to_dict(SeqIO.parse(original_fasta_file, \"fasta\"))\n",
    "\n",
    "    # Find the first sequence dynamically\n",
    "    first_sequence_name = next(iter(sequences))\n",
    "\n",
    "    # Convert first sequence to string\n",
    "    seq1 = str(sequences[first_sequence_name].seq)\n",
    "\n",
    "    # Read the MSA file to count gaps in the first sequence\n",
    "    with open(msa_file, 'r') as f:\n",
    "        msa_record = next(SeqIO.parse(f, 'fasta'))\n",
    "        msa_seq1 = str(msa_record.seq)\n",
    "\n",
    "    # Initialize list to store mapped conserved sites\n",
    "    mapped_conserved_sites = []\n",
    "\n",
    "    # Map conserved sites to the original sequence\n",
    "    for conserved_site in conserved_sites:\n",
    "        conserved_aa, conserved_pos, conserved_prob = conserved_site\n",
    "        conserved_pos = int(conserved_pos)\n",
    "\n",
    "        # Initialize gap count\n",
    "        gap_count = 0\n",
    "\n",
    "        # Adjust the position based on the number of gaps\n",
    "        for i in range(conserved_pos):\n",
    "            if msa_seq1[i] == '-':\n",
    "                gap_count += 1\n",
    "        \n",
    "        # Calculate mapped position\n",
    "        mapped_pos = conserved_pos - gap_count\n",
    "\n",
    "        # Append mapped conserved site to the list\n",
    "        mapped_conserved_sites.append([conserved_aa, mapped_pos, conserved_prob])\n",
    "\n",
    "    return mapped_conserved_sites"
   ]
  },
  {
   "cell_type": "code",
   "execution_count": 5,
   "metadata": {},
   "outputs": [],
   "source": [
    "x = get_conserved_sites(\"data/msa_dummy.fasta\", 0.5) "
   ]
  },
  {
   "cell_type": "code",
   "execution_count": 8,
   "metadata": {},
   "outputs": [],
   "source": [
    "a = map_conserved_sites(\"data/MSA_dummy_data.fasta\", x, \"data/msa_dummy.fasta\")"
   ]
  },
  {
   "cell_type": "code",
   "execution_count": 25,
   "metadata": {},
   "outputs": [],
   "source": [
    "df = pd.DataFrame(a, columns=['AA', 'pos', 'cons'])"
   ]
  },
  {
   "cell_type": "code",
   "execution_count": 27,
   "metadata": {},
   "outputs": [
    {
     "name": "stdout",
     "output_type": "stream",
     "text": [
      "   AA  pos cons\n",
      "0   M    1  0.9\n",
      "1   G    4  0.6\n",
      "2   T    5  0.6\n",
      "3   V    6  0.6\n",
      "4   V    7  0.7\n",
      "5   S    8  0.7\n",
      "6   G    9  0.7\n",
      "7   G   10  0.6\n",
      "8   S   11  0.6\n",
      "9   M   12  0.6\n",
      "10  N   13  0.6\n",
      "11  Y   26  0.6\n",
      "12  T   27  0.5\n",
      "13  I   28  0.5\n",
      "14  Q   30  0.5\n",
      "15  L   32  0.6\n",
      "16  A   33  0.5\n",
      "17  V   49  0.5\n"
     ]
    }
   ],
   "source": [
    "print(df)"
   ]
  }
 ],
 "metadata": {
  "kernelspec": {
   "display_name": "Python 3",
   "language": "python",
   "name": "python3"
  },
  "language_info": {
   "codemirror_mode": {
    "name": "ipython",
    "version": 3
   },
   "file_extension": ".py",
   "mimetype": "text/x-python",
   "name": "python",
   "nbconvert_exporter": "python",
   "pygments_lexer": "ipython3",
   "version": "3.8.18"
  },
  "orig_nbformat": 4
 },
 "nbformat": 4,
 "nbformat_minor": 2
}
