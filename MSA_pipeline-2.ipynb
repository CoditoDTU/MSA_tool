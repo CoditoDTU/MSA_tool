{
  "nbformat": 4,
  "nbformat_minor": 0,
  "metadata": {
    "colab": {
      "provenance": [],
      "gpuType": "T4"
    },
    "kernelspec": {
      "name": "python3",
      "display_name": "Python 3"
    },
    "language_info": {
      "name": "python"
    },
    "accelerator": "GPU"
  },
  "cells": [
    {
      "cell_type": "markdown",
      "source": [
        "# Setup of Modules.\n",
        "\n"
      ],
      "metadata": {
        "id": "nrU9Eq3NCEPi"
      }
    },
    {
      "cell_type": "markdown",
      "source": [
        "**Once** the Kernel Restarts, Run Again to start Condalab."
      ],
      "metadata": {
        "id": "_AUDZMapXc8w"
      }
    },
    {
      "cell_type": "code",
      "execution_count": 1,
      "metadata": {
        "colab": {
          "base_uri": "https://localhost:8080/"
        },
        "id": "YQ4kwAtEAbcb",
        "outputId": "4274d30d-26b1-4328-c5f1-ce16134095b1"
      },
      "outputs": [
        {
          "output_type": "stream",
          "name": "stdout",
          "text": [
            "\u001b[33mWARNING: Running pip as the 'root' user can result in broken permissions and conflicting behaviour with the system package manager. It is recommended to use a virtual environment instead: https://pip.pypa.io/warnings/venv\u001b[0m\u001b[33m\n",
            "\u001b[0m✨🍰✨ Everything looks OK!\n"
          ]
        }
      ],
      "source": [
        "!pip install -q condacolab\n",
        "import condacolab\n",
        "condacolab.install()"
      ]
    },
    {
      "cell_type": "code",
      "source": [
        "import condacolab\n",
        "condacolab.check()"
      ],
      "metadata": {
        "colab": {
          "base_uri": "https://localhost:8080/"
        },
        "id": "Ifz-GixmAlJt",
        "outputId": "5cf27785-2b73-40e5-a4b8-c2c3180726cb"
      },
      "execution_count": 2,
      "outputs": [
        {
          "output_type": "stream",
          "name": "stdout",
          "text": [
            "✨🍰✨ Everything looks OK!\n"
          ]
        }
      ]
    },
    {
      "cell_type": "code",
      "source": [
        "!git clone https://github.com/CoditoDTU/MSA_tool/\n",
        "%cd MSA_tool"
      ],
      "metadata": {
        "colab": {
          "base_uri": "https://localhost:8080/"
        },
        "id": "LGK85F7gAr-T",
        "outputId": "354a3cb6-1503-43ce-bdfd-e62d70f8fa31"
      },
      "execution_count": 3,
      "outputs": [
        {
          "output_type": "stream",
          "name": "stdout",
          "text": [
            "fatal: destination path 'MSA_tool' already exists and is not an empty directory.\n",
            "/content/MSA_tool\n"
          ]
        }
      ]
    },
    {
      "cell_type": "code",
      "source": [
        "!git branch -a"
      ],
      "metadata": {
        "colab": {
          "base_uri": "https://localhost:8080/"
        },
        "id": "COiu3pbIB6iE",
        "outputId": "14a207e7-99c5-4201-88fa-4d52ac4c4013"
      },
      "execution_count": 4,
      "outputs": [
        {
          "output_type": "stream",
          "name": "stdout",
          "text": [
            "  main\u001b[m\n",
            "* \u001b[32msandbox\u001b[m\n",
            "  \u001b[31mremotes/origin/HEAD\u001b[m -> origin/main\n",
            "  \u001b[31mremotes/origin/main\u001b[m\n",
            "  \u001b[31mremotes/origin/nextflow\u001b[m\n",
            "  \u001b[31mremotes/origin/sandbox\u001b[m\n"
          ]
        }
      ]
    },
    {
      "cell_type": "code",
      "source": [
        "!git checkout sandbox\n"
      ],
      "metadata": {
        "colab": {
          "base_uri": "https://localhost:8080/"
        },
        "id": "Ekqy9Gp9B0VW",
        "outputId": "76beda14-2313-4f9d-d8a9-baaa9ad7cf75"
      },
      "execution_count": 5,
      "outputs": [
        {
          "output_type": "stream",
          "name": "stdout",
          "text": [
            "Already on 'sandbox'\n",
            "Your branch is up to date with 'origin/sandbox'.\n"
          ]
        }
      ]
    },
    {
      "cell_type": "code",
      "source": [
        "%ls"
      ],
      "metadata": {
        "colab": {
          "base_uri": "https://localhost:8080/"
        },
        "id": "8SywtD9VBlm0",
        "outputId": "45e25ab0-bfd1-4588-a4fa-e0a78e163220"
      },
      "execution_count": 6,
      "outputs": [
        {
          "output_type": "stream",
          "name": "stdout",
          "text": [
            "c_pipeline.txt   \u001b[0m\u001b[01;34minterpro_connection\u001b[0m/  \u001b[01;34mpipe_b\u001b[0m/         \u001b[01;34mPipeline_B_V1\u001b[0m/  \u001b[01;34mUnified_pipelines\u001b[0m/\n",
            "diagram.md       LICENSE               \u001b[01;34mpipe_c\u001b[0m/         \u001b[01;34mPipeline_C_V1\u001b[0m/\n",
            "environment.yml  \u001b[01;34mpipe_a\u001b[0m/               \u001b[01;34mPipeline_A_V1\u001b[0m/  README.md\n"
          ]
        }
      ]
    },
    {
      "cell_type": "code",
      "source": [
        "!conda env update -n base -f environment.yml -v #setup environment, upgrading the base."
      ],
      "metadata": {
        "colab": {
          "base_uri": "https://localhost:8080/"
        },
        "id": "PA2Xqd0cAqYp",
        "outputId": "4d4a0874-4435-4fa6-ea6c-b7a9df9584bf"
      },
      "execution_count": 7,
      "outputs": [
        {
          "output_type": "stream",
          "name": "stdout",
          "text": [
            "Channels:\n",
            " - defaults\n",
            " - bioconda\n",
            " - conda-forge\n",
            "Platform: linux-64\n",
            "Collecting package metadata (repodata.json): ...working... \u001b[32minfo     libmamba\u001b[m Reading cache files '/tmp/tmpl5a0s63z.json.*' for repo index 'installed'\n",
            "\u001b[32minfo     libmamba\u001b[m Reading repodata.json file \"/tmp/tmpl5a0s63z.json\" for repo installed\n",
            "\u001b[32minfo     libmamba\u001b[m Reading cache files '/usr/local/pkgs/cache/47929eba.json.*' for repo index 'https://repo.anaconda.com/pkgs/main/linux-64'\n",
            "\u001b[32minfo     libmamba\u001b[m Reading repodata.json file \"/usr/local/pkgs/cache/47929eba.json\" for repo https://repo.anaconda.com/pkgs/main/linux-64\n",
            "\u001b[32minfo     libmamba\u001b[m Writing libsolv solv file \"/usr/local/pkgs/cache/47929eba.solv\" for repo https://repo.anaconda.com/pkgs/main/linux-64\n",
            "\u001b[32minfo     libmamba\u001b[m Reading cache files '/usr/local/pkgs/cache/3e39a7aa.json.*' for repo index 'https://repo.anaconda.com/pkgs/main/noarch'\n",
            "\u001b[32minfo     libmamba\u001b[m Reading repodata.json file \"/usr/local/pkgs/cache/3e39a7aa.json\" for repo https://repo.anaconda.com/pkgs/main/noarch\n",
            "\u001b[32minfo     libmamba\u001b[m Writing libsolv solv file \"/usr/local/pkgs/cache/3e39a7aa.solv\" for repo https://repo.anaconda.com/pkgs/main/noarch\n",
            "\u001b[32minfo     libmamba\u001b[m Reading cache files '/usr/local/pkgs/cache/2ce54b42.json.*' for repo index 'https://repo.anaconda.com/pkgs/r/linux-64'\n",
            "\u001b[32minfo     libmamba\u001b[m Reading repodata.json file \"/usr/local/pkgs/cache/2ce54b42.json\" for repo https://repo.anaconda.com/pkgs/r/linux-64\n",
            "\u001b[32minfo     libmamba\u001b[m Writing libsolv solv file \"/usr/local/pkgs/cache/2ce54b42.solv\" for repo https://repo.anaconda.com/pkgs/r/linux-64\n",
            "\u001b[32minfo     libmamba\u001b[m Reading cache files '/usr/local/pkgs/cache/4ea078d6.json.*' for repo index 'https://repo.anaconda.com/pkgs/r/noarch'\n",
            "\u001b[32minfo     libmamba\u001b[m Reading repodata.json file \"/usr/local/pkgs/cache/4ea078d6.json\" for repo https://repo.anaconda.com/pkgs/r/noarch\n",
            "\u001b[32minfo     libmamba\u001b[m Writing libsolv solv file \"/usr/local/pkgs/cache/4ea078d6.solv\" for repo https://repo.anaconda.com/pkgs/r/noarch\n",
            "\u001b[32minfo     libmamba\u001b[m Reading cache files '/usr/local/pkgs/cache/ffeee55f.json.*' for repo index 'https://conda.anaconda.org/bioconda/linux-64'\n",
            "\u001b[32minfo     libmamba\u001b[m Reading repodata.json file \"/usr/local/pkgs/cache/ffeee55f.json\" for repo https://conda.anaconda.org/bioconda/linux-64\n",
            "\u001b[32minfo     libmamba\u001b[m Writing libsolv solv file \"/usr/local/pkgs/cache/ffeee55f.solv\" for repo https://conda.anaconda.org/bioconda/linux-64\n",
            "\u001b[32minfo     libmamba\u001b[m Reading cache files '/usr/local/pkgs/cache/2a957770.json.*' for repo index 'https://conda.anaconda.org/bioconda/noarch'\n",
            "\u001b[32minfo     libmamba\u001b[m Reading repodata.json file \"/usr/local/pkgs/cache/2a957770.json\" for repo https://conda.anaconda.org/bioconda/noarch\n",
            "\u001b[32minfo     libmamba\u001b[m Writing libsolv solv file \"/usr/local/pkgs/cache/2a957770.solv\" for repo https://conda.anaconda.org/bioconda/noarch\n",
            "\u001b[32minfo     libmamba\u001b[m Reading cache files '/usr/local/pkgs/cache/497deca9.json.*' for repo index 'https://conda.anaconda.org/conda-forge/linux-64'\n",
            "\u001b[32minfo     libmamba\u001b[m Reading repodata.json file \"/usr/local/pkgs/cache/497deca9.json\" for repo https://conda.anaconda.org/conda-forge/linux-64\n",
            "\u001b[32minfo     libmamba\u001b[m Writing libsolv solv file \"/usr/local/pkgs/cache/497deca9.solv\" for repo https://conda.anaconda.org/conda-forge/linux-64\n",
            "\u001b[32minfo     libmamba\u001b[m Reading cache files '/usr/local/pkgs/cache/09cdf8bf.json.*' for repo index 'https://conda.anaconda.org/conda-forge/noarch'\n",
            "\u001b[32minfo     libmamba\u001b[m Reading repodata.json file \"/usr/local/pkgs/cache/09cdf8bf.json\" for repo https://conda.anaconda.org/conda-forge/noarch\n",
            "\u001b[32minfo     libmamba\u001b[m Writing libsolv solv file \"/usr/local/pkgs/cache/09cdf8bf.solv\" for repo https://conda.anaconda.org/conda-forge/noarch\n",
            "done\n",
            "Solving environment: ...working... \u001b[32minfo     libmamba\u001b[m Parsing MatchSpec python 3.8.*\n",
            "\u001b[32minfo     libmamba\u001b[m Parsing MatchSpec python 3.10.*\n",
            "failed\n",
            "\n",
            "SpecsConfigurationConflictError: Requested specs conflict with configured specs.\n",
            "  requested specs: \n",
            "    - biopython\n",
            "    - biotite\n",
            "    - clustalo\n",
            "    - fair-esm\n",
            "    - matplotlib\n",
            "    - mmseqs2\n",
            "    - numpy\n",
            "    - openpyxl\n",
            "    - optuna\n",
            "    - pandas\n",
            "    - python=3.8\n",
            "    - requests\n",
            "    - scikit-learn\n",
            "    - scipy\n",
            "    - seaborn\n",
            "    - xmltramp2\n",
            "  pinned specs: \n",
            "    - cuda-version=12\n",
            "    - python=3.10\n",
            "    - python_abi=3.10[build=*cp310*]\n",
            "Use 'conda config --show-sources' to look for 'pinned_specs' and 'track_features'\n",
            "configuration parameters.  Pinned specs may also be defined in the file\n",
            "/usr/local/conda-meta/pinned.\n",
            "\n",
            "\n"
          ]
        }
      ]
    },
    {
      "cell_type": "code",
      "source": [
        "!pip install xmltramp2"
      ],
      "metadata": {
        "colab": {
          "base_uri": "https://localhost:8080/"
        },
        "id": "xzzIHthJV3aA",
        "outputId": "aa4662a5-47de-42fd-9e5c-3daf739d4cae"
      },
      "execution_count": 8,
      "outputs": [
        {
          "output_type": "stream",
          "name": "stdout",
          "text": [
            "Requirement already satisfied: xmltramp2 in /usr/local/lib/python3.10/site-packages (3.1.1)\n",
            "Requirement already satisfied: six in /usr/local/lib/python3.10/site-packages (from xmltramp2) (1.16.0)\n",
            "\u001b[33mWARNING: Running pip as the 'root' user can result in broken permissions and conflicting behaviour with the system package manager. It is recommended to use a virtual environment instead: https://pip.pypa.io/warnings/venv\u001b[0m\u001b[33m\n",
            "\u001b[0m"
          ]
        }
      ]
    },
    {
      "cell_type": "code",
      "source": [
        "%cd ./Unified_pipelines"
      ],
      "metadata": {
        "colab": {
          "base_uri": "https://localhost:8080/"
        },
        "id": "D_Y2NZIMSvP5",
        "outputId": "a2dabf43-d02a-449f-c74f-75267ae06fa8"
      },
      "execution_count": 9,
      "outputs": [
        {
          "output_type": "stream",
          "name": "stdout",
          "text": [
            "/content/MSA_tool/Unified_pipelines\n"
          ]
        }
      ]
    },
    {
      "cell_type": "markdown",
      "source": [
        "# Insert Sequence."
      ],
      "metadata": {
        "id": "DkDwx3ObCJEH"
      }
    },
    {
      "cell_type": "code",
      "source": [
        "import os\n",
        "\n",
        "jobname = 'Trypsin_test' #@param {type:\"string\"}\n",
        "#@markdown  - Specify Jobname for filename.\n",
        "\n",
        "query_sequence = 'FPTDDDDKIVGGYTCAANSIPYQVSLNSGSHFCGGSLINSQWVVSAAHCYKSRIQVRLGE HNIDVLEGNEQFINAAKIITHPNFNGNTLDNDIMLIKLSSPATLNSRVATVSLPRSCAAA GTECLISGWGNTKSSGSSYPSLLQCLKAPVLSDSSCKSSYPGQITGNMICVGFLEGGKDS CQGDSGGPVVCNGQLQGIVSWGYGCAQKNKPGVYTKVCNYVNWIQQTIAAN' #@param {type:\"string\"}\n",
        "#@markdown  - Specify Query Sequence for MSA\n",
        "\n",
        "pipeline = \"a\" #@param [\"a\", \"b\", \"c\"]\n",
        "#@markdown - Choose between the three pipelines.\n",
        "\n",
        "\n",
        "max_length = 500 #@param {type:\"integer\"}\n",
        "#@markdown  - max_length : Maximum sequence length for filtering. Default at 504\n",
        "\n",
        "\n",
        "email = 'niklas.madsen14@gmail.com' #@param {type:\"string\"}\n",
        "#@markdown  - Valid email for notification of progress.\n",
        "\n",
        "autopackage_download = True #@param {type:\"boolean\"}\n",
        "#@markdown - Automatically .zip and download files.\n",
        "\n",
        "job_name_full = f\"{jobname}_{pipeline}\"\n",
        "output_directory = f\"{job_name_full}_results\"\n",
        "os.makedirs(output_directory, exist_ok=True)\n",
        "\n",
        "fasta_full = f\"./{output_directory}/{job_name_full}.fasta\"\n",
        "\n",
        "fasta_content = f\">{job_name_full}\\n{query_sequence}\\n\"\n",
        "\n",
        "with open(fasta_full, \"w\") as fasta_file:\n",
        "    fasta_file.write(fasta_content)\n",
        "\n",
        "\n"
      ],
      "metadata": {
        "id": "uqzstZTjCDaW"
      },
      "execution_count": 10,
      "outputs": []
    },
    {
      "cell_type": "markdown",
      "source": [
        "# Run and package results."
      ],
      "metadata": {
        "id": "J5_QAY66CMrW"
      }
    },
    {
      "cell_type": "code",
      "source": [
        "!chmod +x ./uni_pipe.sh"
      ],
      "metadata": {
        "id": "5RVvcoaPEqDQ"
      },
      "execution_count": 11,
      "outputs": []
    },
    {
      "cell_type": "code",
      "source": [
        "command = f\"bash uni_pipe.sh -i {fasta_full} -p tryp -l 500 -t {pipeline} -o {output_directory} -m {email}\" #-o {output_directory}"
      ],
      "metadata": {
        "id": "u9Q81FisUIJ-"
      },
      "execution_count": 15,
      "outputs": []
    },
    {
      "cell_type": "code",
      "source": [
        "!{command}"
      ],
      "metadata": {
        "colab": {
          "base_uri": "https://localhost:8080/"
        },
        "id": "NMIaeP-UIvRd",
        "outputId": "57510c84-f60d-4084-c5c9-ff42bfae6eb8"
      },
      "execution_count": null,
      "outputs": [
        {
          "output_type": "stream",
          "name": "stdout",
          "text": [
            "JobId: iprscan5-R20240604-124846-0818-74654380-p1m\n",
            "RUNNING\n",
            "RUNNING\n",
            "RUNNING\n",
            "RUNNING\n",
            "RUNNING\n"
          ]
        }
      ]
    },
    {
      "cell_type": "code",
      "source": [
        "from google.colab import files\n",
        "\n",
        "if autopackage_download:\n",
        "  results_zip = f\"{job_name_full}.result.zip\"\n",
        "  os.system(f\"zip -r {results_zip} {output_directory}\")\n",
        "  files.download(f\"{job_name_full}.result.zip\")\n"
      ],
      "metadata": {
        "colab": {
          "base_uri": "https://localhost:8080/",
          "height": 17
        },
        "id": "eEjQ8j1ACOYO",
        "outputId": "5edd5dcf-62c6-424b-97de-8c2ac27fea15"
      },
      "execution_count": 14,
      "outputs": [
        {
          "output_type": "display_data",
          "data": {
            "text/plain": [
              "<IPython.core.display.Javascript object>"
            ],
            "application/javascript": [
              "\n",
              "    async function download(id, filename, size) {\n",
              "      if (!google.colab.kernel.accessAllowed) {\n",
              "        return;\n",
              "      }\n",
              "      const div = document.createElement('div');\n",
              "      const label = document.createElement('label');\n",
              "      label.textContent = `Downloading \"${filename}\": `;\n",
              "      div.appendChild(label);\n",
              "      const progress = document.createElement('progress');\n",
              "      progress.max = size;\n",
              "      div.appendChild(progress);\n",
              "      document.body.appendChild(div);\n",
              "\n",
              "      const buffers = [];\n",
              "      let downloaded = 0;\n",
              "\n",
              "      const channel = await google.colab.kernel.comms.open(id);\n",
              "      // Send a message to notify the kernel that we're ready.\n",
              "      channel.send({})\n",
              "\n",
              "      for await (const message of channel.messages) {\n",
              "        // Send a message to notify the kernel that we're ready.\n",
              "        channel.send({})\n",
              "        if (message.buffers) {\n",
              "          for (const buffer of message.buffers) {\n",
              "            buffers.push(buffer);\n",
              "            downloaded += buffer.byteLength;\n",
              "            progress.value = downloaded;\n",
              "          }\n",
              "        }\n",
              "      }\n",
              "      const blob = new Blob(buffers, {type: 'application/binary'});\n",
              "      const a = document.createElement('a');\n",
              "      a.href = window.URL.createObjectURL(blob);\n",
              "      a.download = filename;\n",
              "      div.appendChild(a);\n",
              "      a.click();\n",
              "      div.remove();\n",
              "    }\n",
              "  "
            ]
          },
          "metadata": {}
        },
        {
          "output_type": "display_data",
          "data": {
            "text/plain": [
              "<IPython.core.display.Javascript object>"
            ],
            "application/javascript": [
              "download(\"download_de1c8990-89b2-46db-b2a4-986c98b6fba5\", \"Trypsin_test_a.result.zip\", 592)"
            ]
          },
          "metadata": {}
        }
      ]
    }
  ]
}