{
 "cells": [
  {
   "cell_type": "code",
   "execution_count": 1,
   "metadata": {},
   "outputs": [],
   "source": [
    "import argparse\n",
    "from Bio import AlignIO\n",
    "from Bio.Align import AlignInfo\n",
    "import numpy as np\n",
    "from Bio import SeqIO\n",
    "import pandas as pd"
   ]
  },
  {
   "cell_type": "code",
   "execution_count": 27,
   "metadata": {},
   "outputs": [],
   "source": [
    "from Bio import AlignIO\n",
    "from Bio.Align import AlignInfo\n",
    "import pandas as pd\n",
    "\n",
    "def calculate_conservation(msa_file):\n",
    "    \"\"\"\n",
    "    Calculates the percentage of conservation of each residue from the first sequence in the alignment across all sequences in the MSA, excluding gaps.\n",
    "\n",
    "    Parameters:\n",
    "        msa_file (str): Path to the input MSA file (in FASTA format).\n",
    "\n",
    "    Returns:\n",
    "        pandas.DataFrame: DataFrame containing the position, conserved residue, and percentage conservation of each residue.\n",
    "    \"\"\"\n",
    "    # Read the MSA file\n",
    "    alignment = AlignIO.read(msa_file, \"fasta\")\n",
    "\n",
    "    # Get the first sequence (original sequence)\n",
    "    original_seq = str(alignment[0].seq)\n",
    "\n",
    "    # Create an AlignInfo summary object\n",
    "    summary = AlignInfo.SummaryInfo(alignment)\n",
    "\n",
    "    # Get the length of the alignment\n",
    "    alignment_length = alignment.get_alignment_length()\n",
    "\n",
    "    # Initialize lists to store conservation values\n",
    "    positions = []\n",
    "    conserved_residues = []\n",
    "    conservation_values = []\n",
    "\n",
    "    # Iterate over each position in the alignment\n",
    "    for pos in range(alignment_length):\n",
    "        # Skip if the position in the original sequence is a gap\n",
    "        if original_seq[pos] == \"-\":\n",
    "            continue\n",
    "        \n",
    "        # Count occurrences of each residue at the current position\n",
    "        residue_counts = {}\n",
    "        for record in alignment:\n",
    "            residue = record.seq[pos]\n",
    "            if residue == \"-\":\n",
    "                continue\n",
    "            if residue in residue_counts:\n",
    "                residue_counts[residue] += 1\n",
    "            else:\n",
    "                residue_counts[residue] = 1\n",
    "        \n",
    "        # Calculate conservation for the current position\n",
    "        original_residue = original_seq[pos]\n",
    "        if original_residue in residue_counts:\n",
    "            conservation = residue_counts[original_residue] / len(alignment)\n",
    "        else:\n",
    "            conservation = 0\n",
    "        \n",
    "        # Add conserved residue information to lists\n",
    "        positions.append(pos + 1)  # Convert to 1-based indexing\n",
    "        conserved_residues.append(original_residue)\n",
    "        conservation_values.append(conservation)\n",
    "    \n",
    "    # Create DataFrame\n",
    "    df_conservation = pd.DataFrame({'Position': positions, 'Conserved Residue': conserved_residues, 'Conservation': conservation_values})\n",
    "\n",
    "    return df_conservation\n"
   ]
  },
  {
   "cell_type": "code",
   "execution_count": 7,
   "metadata": {},
   "outputs": [],
   "source": [
    "al=\"results/test_clu_seq0_og_aligned.fasta\"\n",
    "og=\"data/dummy_seq.fasta\""
   ]
  },
  {
   "cell_type": "code",
   "execution_count": 21,
   "metadata": {},
   "outputs": [],
   "source": [
    "alignment = AlignIO.read(al, \"fasta\")\n",
    "sum = AlignInfo.SummaryInfo(alignment)\n",
    "aln_len = alignment.get_alignment_length()"
   ]
  },
  {
   "cell_type": "code",
   "execution_count": 29,
   "metadata": {},
   "outputs": [],
   "source": [
    "#calculate_conservation(al)"
   ]
  },
  {
   "cell_type": "markdown",
   "metadata": {},
   "source": [
    "### Extra - Conservation analysis : Trypsin"
   ]
  },
  {
   "cell_type": "markdown",
   "metadata": {},
   "source": []
  }
 ],
 "metadata": {
  "kernelspec": {
   "display_name": "MSA_tool",
   "language": "python",
   "name": "python3"
  },
  "language_info": {
   "codemirror_mode": {
    "name": "ipython",
    "version": 3
   },
   "file_extension": ".py",
   "mimetype": "text/x-python",
   "name": "python",
   "nbconvert_exporter": "python",
   "pygments_lexer": "ipython3",
   "version": "3.8.18"
  }
 },
 "nbformat": 4,
 "nbformat_minor": 2
}
